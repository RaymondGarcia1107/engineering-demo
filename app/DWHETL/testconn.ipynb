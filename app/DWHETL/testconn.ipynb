{
 "cells": [
  {
   "cell_type": "code",
   "execution_count": 1,
   "id": "5ffb5c26",
   "metadata": {},
   "outputs": [],
   "source": [
    "import psycopg2\n",
    "from dwh_config import *"
   ]
  },
  {
   "cell_type": "code",
   "execution_count": 2,
   "id": "eb8b276e",
   "metadata": {},
   "outputs": [
    {
     "name": "stdout",
     "output_type": "stream",
     "text": [
      "Version: ('PostgreSQL 14.17 on aarch64-unknown-linux-gnu, compiled by gcc (GCC) 7.3.1 20180712 (Red Hat 7.3.1-17), 64-bit',)\n"
     ]
    }
   ],
   "source": [
    "conn = psycopg2.connect(**db_config)\n",
    "\n",
    "cur = conn.cursor()\n",
    "cur.execute(\"select version();\")\n",
    "print(f'Version: {cur.fetchone()}')\n",
    "\n",
    "cur.close()\n",
    "conn.close()"
   ]
  }
 ],
 "metadata": {
  "kernelspec": {
   "display_name": "venv",
   "language": "python",
   "name": "python3"
  },
  "language_info": {
   "codemirror_mode": {
    "name": "ipython",
    "version": 3
   },
   "file_extension": ".py",
   "mimetype": "text/x-python",
   "name": "python",
   "nbconvert_exporter": "python",
   "pygments_lexer": "ipython3",
   "version": "3.12.3"
  }
 },
 "nbformat": 4,
 "nbformat_minor": 5
}
